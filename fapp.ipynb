{
 "cells": [
  {
   "cell_type": "code",
   "execution_count": 1,
   "id": "e4aa521b",
   "metadata": {},
   "outputs": [],
   "source": [
    "from flask import Flask, render_template, request\n",
    "import numpy as np\n",
    "import pickle\n"
   ]
  },
  {
   "cell_type": "code",
   "execution_count": 2,
   "id": "9434c639",
   "metadata": {},
   "outputs": [],
   "source": [
    "app = Flask(__name__)\n",
    "model = pickle.load(open('pf', 'rb'))"
   ]
  },
  {
   "cell_type": "code",
   "execution_count": 3,
   "id": "5fe3850f",
   "metadata": {},
   "outputs": [],
   "source": [
    "\n",
    "\n",
    "@app.route('/')\n",
    "def index():\n",
    "    return render_template('index.html')\n",
    "\n",
    "@app.route('/predict', methods=['GET', 'POST'])\n",
    "def predict():\n",
    "    val1 = request.form['Average_Income']\n",
    "    val2 = request.form['House_Age']\n",
    "    val3 = request.form['No_of_Rooms']\n",
    "    val4 = request.form['No_of_Bedrooms']\n",
    "    val5 = request.form['Population']\n",
    "    arr = np.array([val1, val2, val3, val4, val5])\n",
    "    arr = arr.astype(np.float64)\n",
    "    pred = model.predict([arr])\n",
    "\n",
    "    return render_template('index.html', data=int(pred))\n"
   ]
  },
  {
   "cell_type": "code",
   "execution_count": null,
   "id": "e0f8c0c8",
   "metadata": {},
   "outputs": [
    {
     "name": "stdout",
     "output_type": "stream",
     "text": [
      " * Serving Flask app \"__main__\" (lazy loading)\n",
      " * Environment: production\n",
      "\u001b[31m   WARNING: This is a development server. Do not use it in a production deployment.\u001b[0m\n",
      "\u001b[2m   Use a production WSGI server instead.\u001b[0m\n",
      " * Debug mode: on\n"
     ]
    },
    {
     "name": "stderr",
     "output_type": "stream",
     "text": [
      " * Running on http://127.0.0.1:5000/ (Press CTRL+C to quit)\n",
      "127.0.0.1 - - [20/Feb/2022 18:36:28] \"GET / HTTP/1.1\" 200 -\n",
      "127.0.0.1 - - [20/Feb/2022 18:36:29] \"GET /main.js HTTP/1.1\" 404 -\n",
      "127.0.0.1 - - [20/Feb/2022 18:36:52] \"POST /predict HTTP/1.1\" 200 -\n",
      "127.0.0.1 - - [20/Feb/2022 18:36:52] \"GET /main.js HTTP/1.1\" 404 -\n",
      "127.0.0.1 - - [20/Feb/2022 18:43:57] \"POST /predict HTTP/1.1\" 200 -\n",
      "127.0.0.1 - - [20/Feb/2022 18:43:57] \"GET /main.js HTTP/1.1\" 404 -\n",
      "127.0.0.1 - - [20/Feb/2022 19:29:32] \"POST /predict HTTP/1.1\" 200 -\n",
      "127.0.0.1 - - [20/Feb/2022 19:29:32] \"GET /main.js HTTP/1.1\" 404 -\n",
      "127.0.0.1 - - [20/Feb/2022 19:29:57] \"POST /predict HTTP/1.1\" 200 -\n",
      "127.0.0.1 - - [20/Feb/2022 19:29:57] \"GET /main.js HTTP/1.1\" 404 -\n"
     ]
    }
   ],
   "source": [
    "\n",
    "\n",
    "# if __name__ == '__main__':\n",
    "#     app.run(debug=True, use_reloader=False)\n",
    "\n",
    "if __name__ == '__main__':\n",
    "    app.run(debug=False, host='0.0.0.0')\n"
   ]
  },
  {
   "cell_type": "code",
   "execution_count": null,
   "id": "7da61beb",
   "metadata": {},
   "outputs": [],
   "source": []
  },
  {
   "cell_type": "code",
   "execution_count": null,
   "id": "f96464d6",
   "metadata": {},
   "outputs": [],
   "source": []
  }
 ],
 "metadata": {
  "kernelspec": {
   "display_name": "Python 3 (ipykernel)",
   "language": "python",
   "name": "python3"
  },
  "language_info": {
   "codemirror_mode": {
    "name": "ipython",
    "version": 3
   },
   "file_extension": ".py",
   "mimetype": "text/x-python",
   "name": "python",
   "nbconvert_exporter": "python",
   "pygments_lexer": "ipython3",
   "version": "3.9.7"
  }
 },
 "nbformat": 4,
 "nbformat_minor": 5
}
